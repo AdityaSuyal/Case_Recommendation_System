{
 "cells": [
  {
   "cell_type": "code",
   "execution_count": 440,
   "metadata": {
    "scrolled": true
   },
   "outputs": [],
   "source": [
    "#standard packages\n",
    "import pandas as pd\n",
    "import numpy as np\n",
    "\n",
    "#webscraping packages & SQLite\n",
    "import pymongo\n",
    "from pymongo import MongoClient\n",
    "from bs4 import BeautifulSoup, SoupStrainer\n",
    "import requests\n",
    "import urllib.request\n",
    "import functions as mf\n",
    "\n",
    "#nlp packages\n",
    "import string\n",
    "import nltk\n",
    "from nltk.corpus import stopwords\n",
    "from gensim.test.utils import common_texts\n",
    "from gensim.models import Word2Vec\n",
    "from gensim.models.doc2vec import Doc2Vec, TaggedDocument\n",
    "from gensim.test.utils import datapath, get_tmpfile\n",
    "from gensim.models import KeyedVectors \n",
    "from gensim.scripts.glove2word2vec import glove2word2vec\n",
    "import spacy\n",
    "from spacy.lang.en.stop_words import STOP_WORDS\n",
    "nlp = spacy.load('en_core_web_lg')\n",
    "\n",
    "#EDA packages\n",
    "from collections import Counter, OrderedDict\n",
    "import matplotlib.pyplot as plt\n",
    "import seaborn as sns\n",
    "import plotly.express as px\n",
    "\n",
    "from sklearn.manifold import TSNE\n",
    "from sklearn.decomposition import PCA\n",
    "from sklearn.metrics.pairwise import cosine_similarity\n",
    "\n",
    "#flask\n",
    "from flask import Flask, render_template, url_for \n",
    "from forms import RegistrationForm"
   ]
  },
  {
   "cell_type": "code",
   "execution_count": 2,
   "metadata": {},
   "outputs": [],
   "source": [
    "client = MongoClient()\n",
    "db = client.case_files\n",
    "cases = db.cases"
   ]
  },
  {
   "cell_type": "code",
   "execution_count": 913,
   "metadata": {},
   "outputs": [],
   "source": [
    "df = pd.DataFrame(list(cases.find()))"
   ]
  },
  {
   "cell_type": "code",
   "execution_count": 914,
   "metadata": {},
   "outputs": [],
   "source": [
    "c_d = mf.clean_data"
   ]
  },
  {
   "cell_type": "code",
   "execution_count": 915,
   "metadata": {},
   "outputs": [],
   "source": [
    "clean_data_df = c_d.clean_data(df)"
   ]
  },
  {
   "cell_type": "code",
   "execution_count": 916,
   "metadata": {
    "scrolled": true
   },
   "outputs": [
    {
     "data": {
      "text/html": [
       "<div>\n",
       "<style scoped>\n",
       "    .dataframe tbody tr th:only-of-type {\n",
       "        vertical-align: middle;\n",
       "    }\n",
       "\n",
       "    .dataframe tbody tr th {\n",
       "        vertical-align: top;\n",
       "    }\n",
       "\n",
       "    .dataframe thead th {\n",
       "        text-align: right;\n",
       "    }\n",
       "</style>\n",
       "<table border=\"1\" class=\"dataframe\">\n",
       "  <thead>\n",
       "    <tr style=\"text-align: right;\">\n",
       "      <th></th>\n",
       "      <th>_id</th>\n",
       "      <th>attorneys</th>\n",
       "      <th>case_id</th>\n",
       "      <th>case_name</th>\n",
       "      <th>case_text</th>\n",
       "      <th>court_id</th>\n",
       "      <th>court_name</th>\n",
       "      <th>decision_date</th>\n",
       "      <th>frontend_url</th>\n",
       "      <th>judges</th>\n",
       "      <th>majority_opinion</th>\n",
       "      <th>other_opinions</th>\n",
       "      <th>tokenized_majority_opinion</th>\n",
       "      <th>no_stop_words_majority</th>\n",
       "    </tr>\n",
       "  </thead>\n",
       "  <tbody>\n",
       "    <tr>\n",
       "      <th>0</th>\n",
       "      <td>5d66e470e59ddf33befdfe06</td>\n",
       "      <td>None</td>\n",
       "      <td>37588</td>\n",
       "      <td>In the matter of the Complaint made against Jo...</td>\n",
       "      <td>[{'text': 'ORDER OF PUBLIC CENSURE\n",
       "Whereas, In...</td>\n",
       "      <td>8874</td>\n",
       "      <td>Kansas Supreme Court</td>\n",
       "      <td>1970</td>\n",
       "      <td>https://cite.case.law/kan/206/335/</td>\n",
       "      <td>None</td>\n",
       "      <td>order of public censure whereas in a proceedin...</td>\n",
       "      <td>[]</td>\n",
       "      <td>(order, of, public, censure, whereas, in, a, p...</td>\n",
       "      <td>[order, public, censure, proceeding, conducted...</td>\n",
       "    </tr>\n",
       "    <tr>\n",
       "      <th>1</th>\n",
       "      <td>5d66e470e59ddf33befdfe07</td>\n",
       "      <td>None</td>\n",
       "      <td>37656</td>\n",
       "      <td>In the matter of the Complaint made against Ro...</td>\n",
       "      <td>[{'text': 'ORDER OF PUBLIC CENSURE\n",
       "Whereas, In...</td>\n",
       "      <td>8874</td>\n",
       "      <td>Kansas Supreme Court</td>\n",
       "      <td>1970</td>\n",
       "      <td>https://cite.case.law/kan/206/334/</td>\n",
       "      <td>None</td>\n",
       "      <td>order of public censure whereas in a proceedin...</td>\n",
       "      <td>[]</td>\n",
       "      <td>(order, of, public, censure, whereas, in, a, p...</td>\n",
       "      <td>[order, public, censure, proceeding, conducted...</td>\n",
       "    </tr>\n",
       "    <tr>\n",
       "      <th>2</th>\n",
       "      <td>5d66e470e59ddf33befdfe08</td>\n",
       "      <td>None</td>\n",
       "      <td>1747634</td>\n",
       "      <td>State of Connecticut v. Anonymous (1971-5)</td>\n",
       "      <td>[{'text': 'Moraghan, J.\n",
       "The defendant has move...</td>\n",
       "      <td>13405</td>\n",
       "      <td>Connecticut Circuit Court</td>\n",
       "      <td>1970</td>\n",
       "      <td>https://cite.case.law/conn-cir-ct/6/443/</td>\n",
       "      <td>None</td>\n",
       "      <td>moraghan j the defendant has moved to suppress...</td>\n",
       "      <td>[]</td>\n",
       "      <td>(moraghan, j, the, defendant, has, moved, to, ...</td>\n",
       "      <td>[moraghan, j, defendant, moved, suppress, cert...</td>\n",
       "    </tr>\n",
       "    <tr>\n",
       "      <th>3</th>\n",
       "      <td>5d66e470e59ddf33befdfe09</td>\n",
       "      <td>None</td>\n",
       "      <td>1747661</td>\n",
       "      <td>State of Connecticut v. Anonymous (1971-3)</td>\n",
       "      <td>[{'text': 'Dearington, J.\n",
       "Following a trial to...</td>\n",
       "      <td>13405</td>\n",
       "      <td>Connecticut Circuit Court</td>\n",
       "      <td>1970</td>\n",
       "      <td>https://cite.case.law/conn-cir-ct/6/393/</td>\n",
       "      <td>None</td>\n",
       "      <td>dearington j following a trial to the jury the...</td>\n",
       "      <td>[]</td>\n",
       "      <td>(dearington, j, following, a, trial, to, the, ...</td>\n",
       "      <td>[dearington, j, following, trial, jury, defend...</td>\n",
       "    </tr>\n",
       "    <tr>\n",
       "      <th>4</th>\n",
       "      <td>5d66e470e59ddf33befdfe0a</td>\n",
       "      <td>None</td>\n",
       "      <td>1747680</td>\n",
       "      <td>State of Connecticut v. Anonymous (1971-7)</td>\n",
       "      <td>[{'text': 'Casale, J.\n",
       "The defendant, after a t...</td>\n",
       "      <td>13405</td>\n",
       "      <td>Connecticut Circuit Court</td>\n",
       "      <td>1970</td>\n",
       "      <td>https://cite.case.law/conn-cir-ct/6/462/</td>\n",
       "      <td>None</td>\n",
       "      <td>casale j the defendant after a trial to the co...</td>\n",
       "      <td>[]</td>\n",
       "      <td>(casale, j, the, defendant, after, a, trial, t...</td>\n",
       "      <td>[casale, j, defendant, trial, court, found, gu...</td>\n",
       "    </tr>\n",
       "  </tbody>\n",
       "</table>\n",
       "</div>"
      ],
      "text/plain": [
       "                        _id attorneys  case_id  \\\n",
       "0  5d66e470e59ddf33befdfe06      None    37588   \n",
       "1  5d66e470e59ddf33befdfe07      None    37656   \n",
       "2  5d66e470e59ddf33befdfe08      None  1747634   \n",
       "3  5d66e470e59ddf33befdfe09      None  1747661   \n",
       "4  5d66e470e59ddf33befdfe0a      None  1747680   \n",
       "\n",
       "                                           case_name  \\\n",
       "0  In the matter of the Complaint made against Jo...   \n",
       "1  In the matter of the Complaint made against Ro...   \n",
       "2         State of Connecticut v. Anonymous (1971-5)   \n",
       "3         State of Connecticut v. Anonymous (1971-3)   \n",
       "4         State of Connecticut v. Anonymous (1971-7)   \n",
       "\n",
       "                                           case_text  court_id  \\\n",
       "0  [{'text': 'ORDER OF PUBLIC CENSURE\n",
       "Whereas, In...      8874   \n",
       "1  [{'text': 'ORDER OF PUBLIC CENSURE\n",
       "Whereas, In...      8874   \n",
       "2  [{'text': 'Moraghan, J.\n",
       "The defendant has move...     13405   \n",
       "3  [{'text': 'Dearington, J.\n",
       "Following a trial to...     13405   \n",
       "4  [{'text': 'Casale, J.\n",
       "The defendant, after a t...     13405   \n",
       "\n",
       "                  court_name decision_date  \\\n",
       "0       Kansas Supreme Court          1970   \n",
       "1       Kansas Supreme Court          1970   \n",
       "2  Connecticut Circuit Court          1970   \n",
       "3  Connecticut Circuit Court          1970   \n",
       "4  Connecticut Circuit Court          1970   \n",
       "\n",
       "                               frontend_url judges  \\\n",
       "0        https://cite.case.law/kan/206/335/   None   \n",
       "1        https://cite.case.law/kan/206/334/   None   \n",
       "2  https://cite.case.law/conn-cir-ct/6/443/   None   \n",
       "3  https://cite.case.law/conn-cir-ct/6/393/   None   \n",
       "4  https://cite.case.law/conn-cir-ct/6/462/   None   \n",
       "\n",
       "                                    majority_opinion other_opinions  \\\n",
       "0  order of public censure whereas in a proceedin...             []   \n",
       "1  order of public censure whereas in a proceedin...             []   \n",
       "2  moraghan j the defendant has moved to suppress...             []   \n",
       "3  dearington j following a trial to the jury the...             []   \n",
       "4  casale j the defendant after a trial to the co...             []   \n",
       "\n",
       "                          tokenized_majority_opinion  \\\n",
       "0  (order, of, public, censure, whereas, in, a, p...   \n",
       "1  (order, of, public, censure, whereas, in, a, p...   \n",
       "2  (moraghan, j, the, defendant, has, moved, to, ...   \n",
       "3  (dearington, j, following, a, trial, to, the, ...   \n",
       "4  (casale, j, the, defendant, after, a, trial, t...   \n",
       "\n",
       "                              no_stop_words_majority  \n",
       "0  [order, public, censure, proceeding, conducted...  \n",
       "1  [order, public, censure, proceeding, conducted...  \n",
       "2  [moraghan, j, defendant, moved, suppress, cert...  \n",
       "3  [dearington, j, following, trial, jury, defend...  \n",
       "4  [casale, j, defendant, trial, court, found, gu...  "
      ]
     },
     "execution_count": 916,
     "metadata": {},
     "output_type": "execute_result"
    }
   ],
   "source": [
    "clean_data_df.head()"
   ]
  },
  {
   "cell_type": "code",
   "execution_count": 917,
   "metadata": {},
   "outputs": [],
   "source": [
    "clean_data_df._id = clean_data_df._id.apply(lambda x : str(x))"
   ]
  },
  {
   "cell_type": "code",
   "execution_count": 10,
   "metadata": {},
   "outputs": [],
   "source": [
    "#text in tokenized are spacy tokens, so have to convert them to strings for the models \n",
    "majority = [i.text for i in test.tokenized_majority_opinion]"
   ]
  },
  {
   "cell_type": "code",
   "execution_count": 918,
   "metadata": {},
   "outputs": [],
   "source": [
    "clean_data_df.to_csv('clean_data_df_15000.csv')"
   ]
  },
  {
   "cell_type": "markdown",
   "metadata": {},
   "source": [
    "***Doc2Vec Model***"
   ]
  },
  {
   "cell_type": "code",
   "execution_count": 919,
   "metadata": {},
   "outputs": [],
   "source": [
    "def sent_to_words(sentences):\n",
    "    for sentence in sentences:\n",
    "        yield(gensim.utils.simple_preprocess(str(sentence), deacc=True))  # deacc=True removes punctuations"
   ]
  },
  {
   "cell_type": "code",
   "execution_count": 920,
   "metadata": {},
   "outputs": [],
   "source": [
    "list_of_token_text = list(sent_to_words(clean_data_df.tokenized_majority_opinion))"
   ]
  },
  {
   "cell_type": "code",
   "execution_count": 921,
   "metadata": {},
   "outputs": [],
   "source": [
    "#tag each document \n",
    "documents = [TaggedDocument(doc, [i]) for i, doc in enumerate(list_of_token_text)]\n",
    "model = Doc2Vec(documents, vector_size=300, window=1, \n",
    "                min_count=1, workers=4, dm=1, \n",
    "                sample= 0.01, dm_concat = 1, negative = 5, dbow_words = 1)\n"
   ]
  },
  {
   "cell_type": "code",
   "execution_count": 922,
   "metadata": {},
   "outputs": [],
   "source": [
    "model.save(\"model_15000.model\")"
   ]
  },
  {
   "cell_type": "code",
   "execution_count": 33,
   "metadata": {
    "scrolled": true
   },
   "outputs": [
    {
     "data": {
      "text/plain": [
       "[('boy', 0.7236981391906738),\n",
       " ('man', 0.6970038414001465),\n",
       " ('girl', 0.6482921838760376),\n",
       " ('daughter', 0.6438713073730469),\n",
       " ('seaman', 0.6122671961784363),\n",
       " ('horse', 0.6120308637619019),\n",
       " ('female', 0.6110771894454956),\n",
       " ('legatee', 0.6098716259002686),\n",
       " ('women', 0.6035140752792358),\n",
       " ('codefendant', 0.6034492254257202)]"
      ]
     },
     "execution_count": 33,
     "metadata": {},
     "output_type": "execute_result"
    }
   ],
   "source": [
    "model.most_similar('woman')"
   ]
  },
  {
   "cell_type": "code",
   "execution_count": 924,
   "metadata": {},
   "outputs": [
    {
     "data": {
      "text/plain": [
       "[('white', 0.6352797150611877),\n",
       " ('nude', 0.5251858830451965),\n",
       " ('negro', 0.5092548131942749),\n",
       " ('colored', 0.49261340498924255),\n",
       " ('male', 0.49129781126976013),\n",
       " ('cisek', 0.4821275472640991),\n",
       " ('christian', 0.47875675559043884),\n",
       " ('bird', 0.4691063463687897),\n",
       " ('pringle', 0.4666266143321991),\n",
       " ('younger', 0.45124179124832153)]"
      ]
     },
     "execution_count": 924,
     "metadata": {},
     "output_type": "execute_result"
    }
   ],
   "source": [
    "model.most_similar('black')"
   ]
  },
  {
   "cell_type": "code",
   "execution_count": 34,
   "metadata": {},
   "outputs": [],
   "source": [
    "def analogy(x1, x2, y1):\n",
    "    result = model.most_similar(positive=[y1, x2], negative=[x1])\n",
    "    return result[0][0]"
   ]
  },
  {
   "cell_type": "code",
   "execution_count": 35,
   "metadata": {},
   "outputs": [
    {
     "data": {
      "text/plain": [
       "'murder'"
      ]
     },
     "execution_count": 35,
     "metadata": {},
     "output_type": "execute_result"
    }
   ],
   "source": [
    "analogy('woman', 'rape', 'man')"
   ]
  },
  {
   "cell_type": "markdown",
   "metadata": {},
   "source": [
    "***Recommendation Engine Using Doc2Vec as Features***"
   ]
  },
  {
   "cell_type": "code",
   "execution_count": 328,
   "metadata": {},
   "outputs": [
    {
     "name": "stdout",
     "output_type": "stream",
     "text": [
      "insert case year as four digits, i.e. 2018: 2018\n"
     ]
    }
   ],
   "source": [
    "test_case_date = input('insert case year as four digits, i.e. 2018: ')\n",
    "test_case_date = int(test_case_date)"
   ]
  },
  {
   "cell_type": "code",
   "execution_count": 827,
   "metadata": {},
   "outputs": [
    {
     "name": "stdout",
     "output_type": "stream",
     "text": [
      "insert case text: Case Text: District of Columbia law bans handgun possession by making it a crime to carry an unregistered firearm and prohibiting the registration of handguns; provides separately that no person may carry an unlicensed handgun, but authorizes the police chief to issue 1-year licenses; and requires residents to keep lawfully owned firearms unloaded and disassembled or bound by a trigger lock or similar device. Respondent Heller, a D. C. special policeman, applied to register a handgun he wished to keep at home, but the District refused. He filed this suit seeking, on Second Amendment grounds, to enjoin the city from enforcing the bar on handgun registration, the licensing requirement insofar as it prohibits carrying an unlicensed firearm in the home, and the trigger-lock requirement insofar as it prohibits the use of functional firearms in the home. The District Court dismissed the suit, but the D. C. Circuit reversed, holding that the Second Amendment protects an individual’s right to possess firearms and that the city’s total ban on handguns, as well as its requirement that firearms in the home be kept nonfunctional even when necessary for self-defense, violated that right.\n"
     ]
    }
   ],
   "source": [
    "test_input = input('insert case text: ')"
   ]
  },
  {
   "cell_type": "code",
   "execution_count": 828,
   "metadata": {
    "scrolled": true
   },
   "outputs": [],
   "source": [
    "def clean_test_input(test_text):\n",
    "    test_input = test_text.lower().translate(str.maketrans('  ', '  ', string.punctuation)).replace('\\n', ' ').replace('•', ' ').replace('“', ' ').replace('”', ' ')\n",
    "    test_input = nlp.tokenizer(test_input) \n",
    "    test_input = c_d.stop_word_remove(test_input)\n",
    "    test_vector = model.infer_vector(test_input)\n",
    "    top_10_similar_cases = model.docvecs.most_similar([test_vector])\n",
    "    input_vector = pd.DataFrame(test_vector).T\n",
    "    return input_vector"
   ]
  },
  {
   "cell_type": "code",
   "execution_count": 830,
   "metadata": {},
   "outputs": [],
   "source": [
    "test_input = test_input.lower().translate(str.maketrans('  ', '  ', string.punctuation)).replace('\\n', ' ').replace('•', ' ').replace('“', ' ').replace('”', ' ')\n",
    "test_input = nlp.tokenizer(test_input) \n",
    "test_input = c_d.stop_word_remove(test_input)\n",
    "test_vector = model.infer_vector(test_input)\n",
    "top_10_similar_cases = model.docvecs.most_similar([test_vector])"
   ]
  },
  {
   "cell_type": "code",
   "execution_count": 831,
   "metadata": {
    "scrolled": true
   },
   "outputs": [
    {
     "data": {
      "text/plain": [
       "[(6220, 0.7356553673744202),\n",
       " (5680, 0.7268011569976807),\n",
       " (7205, 0.7000726461410522),\n",
       " (7293, 0.6920267343521118),\n",
       " (6021, 0.6893383264541626),\n",
       " (4591, 0.6887164115905762),\n",
       " (3042, 0.6844009160995483),\n",
       " (3575, 0.6843631267547607),\n",
       " (2015, 0.6799923777580261),\n",
       " (5221, 0.6762263774871826)]"
      ]
     },
     "execution_count": 831,
     "metadata": {},
     "output_type": "execute_result"
    }
   ],
   "source": [
    "top_10_similar_cases "
   ]
  },
  {
   "cell_type": "code",
   "execution_count": 833,
   "metadata": {},
   "outputs": [
    {
     "data": {
      "text/plain": [
       "Index(['_id', 'attorneys', 'case_id', 'case_name', 'case_text', 'court_id',\n",
       "       'court_name', 'decision_date', 'frontend_url', 'judges',\n",
       "       'majority_opinion', 'other_opinions', 'tokenized_majority_opinion',\n",
       "       'no_stop_words_majority'],\n",
       "      dtype='object')"
      ]
     },
     "execution_count": 833,
     "metadata": {},
     "output_type": "execute_result"
    }
   ],
   "source": [
    "clean_data_df.columns"
   ]
  },
  {
   "cell_type": "code",
   "execution_count": 834,
   "metadata": {},
   "outputs": [
    {
     "data": {
      "text/plain": [
       "'craven circuit judge lynn porter was convicted of occupying a house containing gambling paraphernalia in violation of sc code of laws § 165152 1962 the south carolina supreme court affirmed his conviction state v porter 251 sc 393 162 se2d 843 1968 cert denied 393 us 1079 89 sct 859 21 led2d 773 1969 on petition for a writ of habeas corpus the district court adjudged porter’s conviction unconstitu tional on the ground that a search of his home incident to the arrest was overbroad the court held that the unconstitutional search in turn required the exclusion of evidence seized and offered to prove porter’s guilt the state appealed we reverse ted m owens an agent with the south carolina law enforcement division was assigned to investigate gambling activity in greenville county south carolina on august 24 1965 he testified at porter’s trial that he received from a reliable source the telephone number of a party accepting bets on baseball and football games he called the number and began placing bets with the party who answered on the stand he identified the voice on the phone as that of lynn porter owens made wagers on a weekly basis with porter through december 1965 usually placing the bets by phone and leaving the money bet at the desk of the imperial 400 motel someone inferentially porter would later pick up the money at the motel on december 29 1965 owens received information that porter had gambling paraphernalia and parlay cards at his home he then signed an arrest warrant for porter and proceeded with four other officers to porter’s residence according to the officers mrs porter answered the officers’ knock at the door by pushing it open slightly seeing the police outside she shut the door and went away porter himself then came to the door and asked whether the officers had a search warrant they told him they had an arrest warrant and porter opened the door the police stepped in and read the warrant to him lieutenant coleman one of the officers present then told porter that he wanted to look around to which porter is said to have replied go ahead or help yourself the police then searched the premises in a basement room some distance from the point of the arrest they found a phone with four or five incoming lines some parlay cards dice playing cards and odds books the parlay cards and odds books were introduced at porter’s trial while the police were at the porter residence mrs porter requested that she be allowed to take her children and go to a neighbor’s house before she left however the officers asked her whether she had any parlay cards or other gambling equipment in her purse she replied by offering to hand over her bag but one of the police told her to open it instead when she complied the officer noticed a billfold inside and asked if there was money in it mrs porter took out 105 and gave it to the police who told her they would have to hold the money until they could determine whether it was cash mailed to porter by owens they subsequently confirmed by an examination of the serial numbers that part of the money had been sent to porter on a bet placed by owens this money was also introduced at the trial porter attacks his detention on two grounds a that the search and seizure without a search warrant was invalid even though made contemporaneously with and incident to a lawful arrest b that he did not waive his constitutional protection by consenting to the search i the district court ordered porter’s release prior to the decision in chimel v california 395 us 752 89 sct 2034 23 led2d 685 1969 which held a search without a warrant impermissible if it extends beyond the arrestee’s person and the area from which he can obtain a weapon or obtain and destroy something that can be used as evidence against him consequently we must determine whether chimel is to apply retrospectively to the search in this case we are convinced that it should apply only prospectively in linkletter v walker 381 us 618 85 sct 1731 14 led2d 601 1965 the supreme court held the exclusionary rule of mapp v ohio 367 us 643 81 sct 1684 6 led2d 1081 1961 inap plicable to cases finally decided prior to mapp the court in linkletter enumerated three considerations proper in deciding an issue of retrospectivity the purpose of the rule being considered the reliance placed upon the previous rule or doctrine and the effect of a retrospective application on the administration of justice see linkletter v walker 381 us at 636 85 sct 1731 1965 see also stovall v denno 388 us 293 87 sct 1967 18 led2d 1199 1967 as applied to mapp these considerations dictated a prospective application since chimel is merely an extension of the mapp exclusionary rule to a new situation it is clear we think that prospective application of the former rule is also required in linkletter the court stated that it would not serve the purpose of the exclusionary rule to apply it retrospectively the purpose of the rule of course is not to exclude untrustworthy evidence from the jury but to deter unlawful police conduct prior police activity cannot be corrected by retrospective application of an exclusionary rule deterrence of future conduct will be served as well by prospective application the same reasoning is applicable to the extension of the exclusionary rule in chimel the court in linkletter also pointed out that the states had relied heavily on the doctrine of wolf v colorado 338 u s 25 69 sct 1359 93 led 1782 1949 prior to mapp and concluded that retrospective application of the exclusionary rule would unduly tax the administration of justice similarly before chimel a reasonable search incident to a lawful arrest but without a search warrant was valid even though it extended beyond the person and immediate vicinity of the person arrested united states v rabinowitz 339 us 56 70 sct 430 94 led 653 1950 harris v united states 331 us 145 67 sct 1098 91 led 1399 1947 the state authorities were entitled to and did rely on the validity of a search so conducted we hold the chimel rule is to apply only to searches conducted after june 23 1969 the date of decision in that case compare desist v united states 394 us 244 89 sct 1030 22 led2d 248 1969 williams v united states 418 f2d 159 9th cir1969 ii the validity of the search in this case must be determined under the rules promulgated in united states v rabinowitz 339 us 56 70 sct 430 94 led 653 1950 and harris v united states 331 us 145 67 sct 1098 91 led 1399 1947 both of which were overruled by chimel see 1969 duke l j 1084 in harris five fbi agents arrested the defendant in his apartment pursuant to valid arrest warrants the agents had not obtained search warrants but they searched the entire apartment and uncovered certain canceled checks they also discovered eight draft classification cards and eleven registration certificates which bore the stamp of a local draft board the checks were related to the crime for which defendant was arrested but the cards and certificates were not nevertheless on the basis of the evidence seized harris was convicted for unlawful possession concealment and alteration of classification cards and registration certificates the supreme court held the search and seizure valid stating the test to be whether the search incident to a lawful arrest was reasonable under all the circumstances the agents were present in the apartment lawfully pursuant to valid arrest warrants and their search was directed specifically to the means and instrumentalities by which the crimes charged had been committed as a result both the evidence sought and the evidence fortuitously discovered were held subject to seizure in babinowitz government agents arrested defendant in his oneroom office the arrest was pursuant to a valid arrest warrant but no search warrant had been issued the agents searched the office for an hour and a half uncovering and seizing 573 stamps on which overprints had been forged the court declared that the constitution prohibits only unreasonable searches and that the reasonableness of a search depends upon the circumstances of each case because the search and seizure were incident to a lawful arrest the place searched was a business room to which the public was invited the room was small and under the complete control of respondent the search did not extend beyond the room and the possession of the forged stamps was a crime the court declared the search reasonable in the case before us now the district court decision rests squarely on trupiano v united states 334 us 699 68 sct 1229 92 led 1663 1948 which required that a search warrant be obtained where practicable rabinowitz however specifically overruled trupiano to the extent that it required a search warrant where reasonable to procure one rather than merely requiring the search itself to be reasonable under the rule of harris and rabinowitz it is clear that a search incident to a lawful arrest may extend beyond the immediate vicinity of the one arrested how far a prechimel search may ultimately extend depends entirely on the facts of each case in this case the search was reasonable under all the circumstances because 1 the officers were conducting a search for specific evidence gambling paraphernalia parlay cards and bills with particular serial numbers not a general exploratory search with no definite aim in mind 2 the search and seizure were incident to a lawful arrest based on probable cause developed after extensive investigation 3 there was at the time of the arrest and search no south carolina statute authorizing the officers to obtain a search warrant for gambling paraphernalia 4 if the officers had not conducted the search there was good reason to fear that the evidence would have been destroyed or concealed indeed since the officers could not obtain a search warrant for the items there would have been no method available to obtain the incriminating evidence 5 finally occupying a house containing gambling paraphernalia was the very crime for which porter was being arrested and as a result a search for the gambling paraphernalia within the house was entirely reasonable under a test of reasonableness therefore the search and seizure incident to a lawful arrest were valid and the district court erred in directing porter’s release because the search and seizure were valid we do not reach the issue of consent to the search reversed 1  the court in its opinion refers to the socalled mere evidence rule which was subsequently overruled in warden md penitentiary v hayden 387 us 294 87 sct 1642 18 led2d 782 1967 the applicability of harris to tbe present search is not affected by the demise of the mere evidence rule since the police here were searching specifically for gambling paraphernalia 2  the absence of an authorizing statute would not of course legitimate a search where a warrant is constitutionally required — as for instance under the new rule promulgated by chimel v california 395 us 752 89 sct 2034 23 led2d 685 1969 where a warrant will be required in every instance for a search beyond the vicinity of the person arrested we do not accept the argument that the absence of an authorizing statute demonstrated the south carolina legislature’s intent that no search for gambling paraphernalia should be conducted in the state this interpretation of the legislative intent is unreasonable in light of a statute making it illegal to occupy a house in which gambling paraphernalia is located the south carolina legislature has subsequent to this case amended the law to allow the issuance of a search warrant for any property used in the commission of a crime sccode of laws § 17271 1962 as amended 1968 supp'"
      ]
     },
     "execution_count": 834,
     "metadata": {},
     "output_type": "execute_result"
    }
   ],
   "source": [
    "clean_data_df['majority_opinion'][5680]"
   ]
  },
  {
   "cell_type": "code",
   "execution_count": 819,
   "metadata": {},
   "outputs": [],
   "source": [
    "input_vector = clean_test_input(test_input)"
   ]
  },
  {
   "cell_type": "code",
   "execution_count": 820,
   "metadata": {},
   "outputs": [
    {
     "data": {
      "text/html": [
       "<div>\n",
       "<style scoped>\n",
       "    .dataframe tbody tr th:only-of-type {\n",
       "        vertical-align: middle;\n",
       "    }\n",
       "\n",
       "    .dataframe tbody tr th {\n",
       "        vertical-align: top;\n",
       "    }\n",
       "\n",
       "    .dataframe thead th {\n",
       "        text-align: right;\n",
       "    }\n",
       "</style>\n",
       "<table border=\"1\" class=\"dataframe\">\n",
       "  <thead>\n",
       "    <tr style=\"text-align: right;\">\n",
       "      <th></th>\n",
       "      <th>0</th>\n",
       "      <th>1</th>\n",
       "      <th>2</th>\n",
       "      <th>3</th>\n",
       "      <th>4</th>\n",
       "      <th>5</th>\n",
       "      <th>6</th>\n",
       "      <th>7</th>\n",
       "      <th>8</th>\n",
       "      <th>9</th>\n",
       "      <th>...</th>\n",
       "      <th>290</th>\n",
       "      <th>291</th>\n",
       "      <th>292</th>\n",
       "      <th>293</th>\n",
       "      <th>294</th>\n",
       "      <th>295</th>\n",
       "      <th>296</th>\n",
       "      <th>297</th>\n",
       "      <th>298</th>\n",
       "      <th>299</th>\n",
       "    </tr>\n",
       "  </thead>\n",
       "  <tbody>\n",
       "    <tr>\n",
       "      <th>0</th>\n",
       "      <td>0.13188</td>\n",
       "      <td>0.027174</td>\n",
       "      <td>-0.104284</td>\n",
       "      <td>-0.081959</td>\n",
       "      <td>0.041408</td>\n",
       "      <td>0.045122</td>\n",
       "      <td>0.09816</td>\n",
       "      <td>-0.050489</td>\n",
       "      <td>-0.118886</td>\n",
       "      <td>0.122865</td>\n",
       "      <td>...</td>\n",
       "      <td>0.152269</td>\n",
       "      <td>0.250656</td>\n",
       "      <td>-0.045469</td>\n",
       "      <td>0.089309</td>\n",
       "      <td>-0.048416</td>\n",
       "      <td>0.014992</td>\n",
       "      <td>0.089043</td>\n",
       "      <td>-0.032066</td>\n",
       "      <td>0.074593</td>\n",
       "      <td>-0.171983</td>\n",
       "    </tr>\n",
       "  </tbody>\n",
       "</table>\n",
       "<p>1 rows × 300 columns</p>\n",
       "</div>"
      ],
      "text/plain": [
       "       0         1         2         3         4         5        6    \\\n",
       "0  0.13188  0.027174 -0.104284 -0.081959  0.041408  0.045122  0.09816   \n",
       "\n",
       "        7         8         9    ...       290       291       292       293  \\\n",
       "0 -0.050489 -0.118886  0.122865  ...  0.152269  0.250656 -0.045469  0.089309   \n",
       "\n",
       "        294       295       296       297       298       299  \n",
       "0 -0.048416  0.014992  0.089043 -0.032066  0.074593 -0.171983  \n",
       "\n",
       "[1 rows x 300 columns]"
      ]
     },
     "execution_count": 820,
     "metadata": {},
     "output_type": "execute_result"
    }
   ],
   "source": [
    "input_vector"
   ]
  },
  {
   "cell_type": "code",
   "execution_count": 925,
   "metadata": {},
   "outputs": [],
   "source": [
    "def docvec_df(model_docvecs):\n",
    "    _list = []\n",
    "\n",
    "    for i in range(len(model_docvecs)):\n",
    "        test = pd.DataFrame({clean_data_df['_id'][i]: list(model_docvecs[i])}).T\n",
    "        _list.append(test)\n",
    "    \n",
    "    vec_features = pd.concat(_list, sort = False)\n",
    "    return vec_features"
   ]
  },
  {
   "cell_type": "code",
   "execution_count": 926,
   "metadata": {},
   "outputs": [],
   "source": [
    "vec_features = docvec_df(model.docvecs)"
   ]
  },
  {
   "cell_type": "code",
   "execution_count": 927,
   "metadata": {},
   "outputs": [
    {
     "data": {
      "text/plain": [
       "14663"
      ]
     },
     "execution_count": 927,
     "metadata": {},
     "output_type": "execute_result"
    }
   ],
   "source": [
    "len(vec_features)"
   ]
  },
  {
   "cell_type": "code",
   "execution_count": 928,
   "metadata": {},
   "outputs": [],
   "source": [
    "def date_df(clean_df):\n",
    "    feature_df = clean_df\n",
    "    feature_df = feature_df.drop(columns = ['attorneys', 'case_name', 'case_text', 'frontend_url', 'judges',\n",
    "           'majority_opinion', 'other_opinions', 'tokenized_majority_opinion',\n",
    "                                            'no_stop_words_majority'])\n",
    "    feature_df['decision_date'] = feature_df['decision_date'].apply(lambda x : int(x[:4]))\n",
    "    return feature_df"
   ]
  },
  {
   "cell_type": "code",
   "execution_count": 929,
   "metadata": {},
   "outputs": [
    {
     "data": {
      "text/html": [
       "<div>\n",
       "<style scoped>\n",
       "    .dataframe tbody tr th:only-of-type {\n",
       "        vertical-align: middle;\n",
       "    }\n",
       "\n",
       "    .dataframe tbody tr th {\n",
       "        vertical-align: top;\n",
       "    }\n",
       "\n",
       "    .dataframe thead th {\n",
       "        text-align: right;\n",
       "    }\n",
       "</style>\n",
       "<table border=\"1\" class=\"dataframe\">\n",
       "  <thead>\n",
       "    <tr style=\"text-align: right;\">\n",
       "      <th></th>\n",
       "      <th>_id</th>\n",
       "      <th>case_id</th>\n",
       "      <th>court_id</th>\n",
       "      <th>court_name</th>\n",
       "      <th>decision_date</th>\n",
       "    </tr>\n",
       "  </thead>\n",
       "  <tbody>\n",
       "    <tr>\n",
       "      <th>0</th>\n",
       "      <td>5d66e470e59ddf33befdfe06</td>\n",
       "      <td>37588</td>\n",
       "      <td>8874</td>\n",
       "      <td>Kansas Supreme Court</td>\n",
       "      <td>1970</td>\n",
       "    </tr>\n",
       "    <tr>\n",
       "      <th>1</th>\n",
       "      <td>5d66e470e59ddf33befdfe07</td>\n",
       "      <td>37656</td>\n",
       "      <td>8874</td>\n",
       "      <td>Kansas Supreme Court</td>\n",
       "      <td>1970</td>\n",
       "    </tr>\n",
       "    <tr>\n",
       "      <th>2</th>\n",
       "      <td>5d66e470e59ddf33befdfe08</td>\n",
       "      <td>1747634</td>\n",
       "      <td>13405</td>\n",
       "      <td>Connecticut Circuit Court</td>\n",
       "      <td>1970</td>\n",
       "    </tr>\n",
       "    <tr>\n",
       "      <th>3</th>\n",
       "      <td>5d66e470e59ddf33befdfe09</td>\n",
       "      <td>1747661</td>\n",
       "      <td>13405</td>\n",
       "      <td>Connecticut Circuit Court</td>\n",
       "      <td>1970</td>\n",
       "    </tr>\n",
       "    <tr>\n",
       "      <th>4</th>\n",
       "      <td>5d66e470e59ddf33befdfe0a</td>\n",
       "      <td>1747680</td>\n",
       "      <td>13405</td>\n",
       "      <td>Connecticut Circuit Court</td>\n",
       "      <td>1970</td>\n",
       "    </tr>\n",
       "  </tbody>\n",
       "</table>\n",
       "</div>"
      ],
      "text/plain": [
       "                        _id  case_id  court_id                 court_name  \\\n",
       "0  5d66e470e59ddf33befdfe06    37588      8874       Kansas Supreme Court   \n",
       "1  5d66e470e59ddf33befdfe07    37656      8874       Kansas Supreme Court   \n",
       "2  5d66e470e59ddf33befdfe08  1747634     13405  Connecticut Circuit Court   \n",
       "3  5d66e470e59ddf33befdfe09  1747661     13405  Connecticut Circuit Court   \n",
       "4  5d66e470e59ddf33befdfe0a  1747680     13405  Connecticut Circuit Court   \n",
       "\n",
       "   decision_date  \n",
       "0           1970  \n",
       "1           1970  \n",
       "2           1970  \n",
       "3           1970  \n",
       "4           1970  "
      ]
     },
     "execution_count": 929,
     "metadata": {},
     "output_type": "execute_result"
    }
   ],
   "source": [
    "feature_df = date_df(clean_data_df)\n",
    "feature_df.head()"
   ]
  },
  {
   "cell_type": "code",
   "execution_count": 930,
   "metadata": {
    "scrolled": true
   },
   "outputs": [],
   "source": [
    "def combine_df(df1, df2):\n",
    "    combined_df = feature_df.merge(vec_features, left_on='_id', right_index= True, copy=False)\n",
    "    combined_df.drop(['case_id', '_id', 'court_id', 'court_name'], axis = 1, inplace = True)\n",
    "    return combined_df"
   ]
  },
  {
   "cell_type": "code",
   "execution_count": 934,
   "metadata": {},
   "outputs": [],
   "source": [
    "combined_df.to_csv('combined_df_15000.csv')"
   ]
  },
  {
   "cell_type": "code",
   "execution_count": 932,
   "metadata": {},
   "outputs": [
    {
     "data": {
      "text/html": [
       "<div>\n",
       "<style scoped>\n",
       "    .dataframe tbody tr th:only-of-type {\n",
       "        vertical-align: middle;\n",
       "    }\n",
       "\n",
       "    .dataframe tbody tr th {\n",
       "        vertical-align: top;\n",
       "    }\n",
       "\n",
       "    .dataframe thead th {\n",
       "        text-align: right;\n",
       "    }\n",
       "</style>\n",
       "<table border=\"1\" class=\"dataframe\">\n",
       "  <thead>\n",
       "    <tr style=\"text-align: right;\">\n",
       "      <th></th>\n",
       "      <th>decision_date</th>\n",
       "      <th>0</th>\n",
       "      <th>1</th>\n",
       "      <th>2</th>\n",
       "      <th>3</th>\n",
       "      <th>4</th>\n",
       "      <th>5</th>\n",
       "      <th>6</th>\n",
       "      <th>7</th>\n",
       "      <th>8</th>\n",
       "      <th>...</th>\n",
       "      <th>290</th>\n",
       "      <th>291</th>\n",
       "      <th>292</th>\n",
       "      <th>293</th>\n",
       "      <th>294</th>\n",
       "      <th>295</th>\n",
       "      <th>296</th>\n",
       "      <th>297</th>\n",
       "      <th>298</th>\n",
       "      <th>299</th>\n",
       "    </tr>\n",
       "  </thead>\n",
       "  <tbody>\n",
       "    <tr>\n",
       "      <th>0</th>\n",
       "      <td>1970</td>\n",
       "      <td>0.055578</td>\n",
       "      <td>0.062793</td>\n",
       "      <td>0.111757</td>\n",
       "      <td>-0.050747</td>\n",
       "      <td>0.022060</td>\n",
       "      <td>-0.029708</td>\n",
       "      <td>0.086982</td>\n",
       "      <td>0.033576</td>\n",
       "      <td>-0.071184</td>\n",
       "      <td>...</td>\n",
       "      <td>0.129361</td>\n",
       "      <td>0.162560</td>\n",
       "      <td>0.046071</td>\n",
       "      <td>-0.040822</td>\n",
       "      <td>-0.143222</td>\n",
       "      <td>-0.057379</td>\n",
       "      <td>0.014555</td>\n",
       "      <td>-0.123648</td>\n",
       "      <td>0.150177</td>\n",
       "      <td>-0.010832</td>\n",
       "    </tr>\n",
       "    <tr>\n",
       "      <th>1</th>\n",
       "      <td>1970</td>\n",
       "      <td>0.036769</td>\n",
       "      <td>0.018969</td>\n",
       "      <td>0.117687</td>\n",
       "      <td>0.012926</td>\n",
       "      <td>0.055218</td>\n",
       "      <td>-0.064043</td>\n",
       "      <td>0.064138</td>\n",
       "      <td>0.050911</td>\n",
       "      <td>-0.080674</td>\n",
       "      <td>...</td>\n",
       "      <td>0.149662</td>\n",
       "      <td>0.132872</td>\n",
       "      <td>-0.013231</td>\n",
       "      <td>-0.051893</td>\n",
       "      <td>-0.137733</td>\n",
       "      <td>-0.087553</td>\n",
       "      <td>0.014746</td>\n",
       "      <td>-0.084734</td>\n",
       "      <td>0.129504</td>\n",
       "      <td>0.019240</td>\n",
       "    </tr>\n",
       "    <tr>\n",
       "      <th>2</th>\n",
       "      <td>1970</td>\n",
       "      <td>0.173926</td>\n",
       "      <td>0.046345</td>\n",
       "      <td>-0.039223</td>\n",
       "      <td>-0.046244</td>\n",
       "      <td>-0.178465</td>\n",
       "      <td>0.102620</td>\n",
       "      <td>0.233139</td>\n",
       "      <td>0.056684</td>\n",
       "      <td>-0.008768</td>\n",
       "      <td>...</td>\n",
       "      <td>0.240780</td>\n",
       "      <td>-0.026236</td>\n",
       "      <td>0.014886</td>\n",
       "      <td>0.031901</td>\n",
       "      <td>-0.064725</td>\n",
       "      <td>-0.306861</td>\n",
       "      <td>0.132542</td>\n",
       "      <td>-0.202208</td>\n",
       "      <td>0.094480</td>\n",
       "      <td>0.024635</td>\n",
       "    </tr>\n",
       "    <tr>\n",
       "      <th>3</th>\n",
       "      <td>1970</td>\n",
       "      <td>0.011757</td>\n",
       "      <td>-0.064485</td>\n",
       "      <td>-0.256493</td>\n",
       "      <td>0.101125</td>\n",
       "      <td>0.051026</td>\n",
       "      <td>0.011756</td>\n",
       "      <td>0.084242</td>\n",
       "      <td>0.068421</td>\n",
       "      <td>0.132079</td>\n",
       "      <td>...</td>\n",
       "      <td>-0.101361</td>\n",
       "      <td>0.153977</td>\n",
       "      <td>-0.066488</td>\n",
       "      <td>-0.133268</td>\n",
       "      <td>-0.126043</td>\n",
       "      <td>0.068069</td>\n",
       "      <td>-0.013512</td>\n",
       "      <td>-0.100623</td>\n",
       "      <td>0.178657</td>\n",
       "      <td>-0.074497</td>\n",
       "    </tr>\n",
       "    <tr>\n",
       "      <th>4</th>\n",
       "      <td>1970</td>\n",
       "      <td>-0.011718</td>\n",
       "      <td>-0.079580</td>\n",
       "      <td>0.011535</td>\n",
       "      <td>0.134300</td>\n",
       "      <td>-0.113267</td>\n",
       "      <td>0.014437</td>\n",
       "      <td>0.079903</td>\n",
       "      <td>0.206433</td>\n",
       "      <td>0.097947</td>\n",
       "      <td>...</td>\n",
       "      <td>0.105243</td>\n",
       "      <td>0.199643</td>\n",
       "      <td>-0.055408</td>\n",
       "      <td>-0.166839</td>\n",
       "      <td>-0.040514</td>\n",
       "      <td>0.023714</td>\n",
       "      <td>0.004094</td>\n",
       "      <td>-0.029682</td>\n",
       "      <td>0.049198</td>\n",
       "      <td>0.080851</td>\n",
       "    </tr>\n",
       "  </tbody>\n",
       "</table>\n",
       "<p>5 rows × 301 columns</p>\n",
       "</div>"
      ],
      "text/plain": [
       "   decision_date         0         1         2         3         4         5  \\\n",
       "0           1970  0.055578  0.062793  0.111757 -0.050747  0.022060 -0.029708   \n",
       "1           1970  0.036769  0.018969  0.117687  0.012926  0.055218 -0.064043   \n",
       "2           1970  0.173926  0.046345 -0.039223 -0.046244 -0.178465  0.102620   \n",
       "3           1970  0.011757 -0.064485 -0.256493  0.101125  0.051026  0.011756   \n",
       "4           1970 -0.011718 -0.079580  0.011535  0.134300 -0.113267  0.014437   \n",
       "\n",
       "          6         7         8  ...       290       291       292       293  \\\n",
       "0  0.086982  0.033576 -0.071184  ...  0.129361  0.162560  0.046071 -0.040822   \n",
       "1  0.064138  0.050911 -0.080674  ...  0.149662  0.132872 -0.013231 -0.051893   \n",
       "2  0.233139  0.056684 -0.008768  ...  0.240780 -0.026236  0.014886  0.031901   \n",
       "3  0.084242  0.068421  0.132079  ... -0.101361  0.153977 -0.066488 -0.133268   \n",
       "4  0.079903  0.206433  0.097947  ...  0.105243  0.199643 -0.055408 -0.166839   \n",
       "\n",
       "        294       295       296       297       298       299  \n",
       "0 -0.143222 -0.057379  0.014555 -0.123648  0.150177 -0.010832  \n",
       "1 -0.137733 -0.087553  0.014746 -0.084734  0.129504  0.019240  \n",
       "2 -0.064725 -0.306861  0.132542 -0.202208  0.094480  0.024635  \n",
       "3 -0.126043  0.068069 -0.013512 -0.100623  0.178657 -0.074497  \n",
       "4 -0.040514  0.023714  0.004094 -0.029682  0.049198  0.080851  \n",
       "\n",
       "[5 rows x 301 columns]"
      ]
     },
     "execution_count": 932,
     "metadata": {},
     "output_type": "execute_result"
    }
   ],
   "source": [
    "combined_df = combine_df(feature_df, vec_features)\n",
    "combined_df.head()"
   ]
  },
  {
   "cell_type": "code",
   "execution_count": 933,
   "metadata": {},
   "outputs": [
    {
     "data": {
      "text/plain": [
       "(14663, 301)"
      ]
     },
     "execution_count": 933,
     "metadata": {},
     "output_type": "execute_result"
    }
   ],
   "source": [
    "combined_df.shape"
   ]
  },
  {
   "cell_type": "code",
   "execution_count": 907,
   "metadata": {},
   "outputs": [],
   "source": [
    "def cosine_text_similarity(text_vector, case_date, combined_df, clean_data_df):\n",
    "    alpha = -0.07 #weight of date and type of court\n",
    "\n",
    "    text_similarity = cosine_similarity(combined_df.iloc[:, 1:], text_vector)\n",
    "    rec_df = pd.DataFrame({'_id': clean_data_df['_id'], 'date': combined_df['decision_date'], 'similarity': list(text_similarity)})\n",
    "    rec_df['similarity'] = rec_df['similarity'].apply(lambda x: x[0])\n",
    "    rec_df['date_similarity'] = rec_df['date'].apply(lambda x: abs(x - case_date)/ 100)\n",
    "    rec_df['tot_similarity'] = rec_df['similarity'] + (alpha * rec_df['date_similarity'])\n",
    "    rec_df = rec_df.sort_values(by = 'tot_similarity', ascending=False).reset_index().loc[0:15]\n",
    "    rec_df.drop(['index'], axis = 1, inplace = True)\n",
    "\n",
    "    _ids = []\n",
    "    for i in rec_df['_id']:\n",
    "        _ids.append(i)\n",
    "\n",
    "    #print(_ids)\n",
    "    _index_values = []\n",
    "    for i in _ids:\n",
    "        temp = (str(clean_data_df.loc[clean_data_df['_id'] == f'{i}']['case_name']))\n",
    "        temp2 = temp.split()[0]\n",
    "        _index_values.append(int(temp2))\n",
    "\n",
    "    case_list = []\n",
    "    for j, i in enumerate(_index_values):\n",
    "        case_list.append(f\"{j+1} -- {clean_data_df['case_name'][i]}\")       \n",
    "\n",
    "        case_list.append(f\"{clean_data_df['majority_opinion'][i]}\")\n",
    "        \n",
    "    \n",
    "    return(case_list)\n",
    "        \n",
    "        \n",
    "        \n",
    "        \n",
    "        "
   ]
  },
  {
   "cell_type": "code",
   "execution_count": 908,
   "metadata": {
    "scrolled": true
   },
   "outputs": [],
   "source": [
    "text = cosine_text_similarity(input_vector, 1980, combined_df, clean_data_df)"
   ]
  },
  {
   "cell_type": "code",
   "execution_count": 909,
   "metadata": {},
   "outputs": [
    {
     "data": {
      "text/plain": [
       "'1 -- Neale WOOD, a minor, by his mother and next friend, Katrina Wood, Plaintiffs, v. ALAMO HEIGHTS INDEPENDENT SCHOOL DISTRICT et al., Defendants'"
      ]
     },
     "execution_count": 909,
     "metadata": {},
     "output_type": "execute_result"
    }
   ],
   "source": [
    "text[0]"
   ]
  },
  {
   "cell_type": "code",
   "execution_count": 912,
   "metadata": {},
   "outputs": [
    {
     "data": {
      "text/plain": [
       "'ingraham circuit judge sitting by designation m emorandum  this action was filed pursuant to 42 usc sec 1983 and 28 usc sec 2201 by three students at bellaire high school against the school principal and the superintendent and members of the board of the houston independent school district the plaintiffs allege that as a result of their publishing and distributing an offcampus publication called the plain brown watermelon they were harassed by school officials and were told to leave the school until their attitudes changed contending that their rights under the first fifth and fourteenth amendments to the united states constitution were violated the plaintiffs first sought a temporary restraining order to restrain the defendants or their agents from refusing the plaintiffs permission to reenter the school from harassing the plaintiffs and from imposing discipline upon them because of their activities in connection with the newspaper the motion for the temporary restraining order was denied on october 22 1969 by motion for preliminary injunction the plaintiffs seek the foregoing relief and in addition an order enjoining the defendants from maintaining a record of the disciplinary action from enforcing regulations designed to inhibit the production and distribution of private student newspapers in the district and for an order requiring the return of seized newspapers on november 13 and 14 1969 an evidentiary hearing was conducted on the motion for preliminary injunction which was advanced to a trial on the merits of the complaint counsel have filed briefs and the case is now before the court for final adjudication for the reasons to follow the court finds that the plaintiffs are not entitled to the relief sought this memorandum will constitute findings of fact and conclusions of law pursuant to fedrcivp 52a the basic facts in this case are for the most part undisputed the plaintiffs began oneampus distribution of the plain brown watermelon on october 17 1969 on the same day they were called before high school administrators and were told to cease distributing the paper they were informed that they were to leave the school until they did so they were not formally expelled they and their parents were offered an opportunity to meet with the school principal but only two of the defendants took advantage of the hearing the students remained intransigent and the school principal refused to revoke his directive the students therefore left the school and filed this suit the evidence adduced at the hearing in this court showed that prior to the distribution of the plain brown watermelon the school principal mr harlan andrews had on two occasions announced to the student body the rule that the distribution of unauthorized material on the campus would result in disciplinary measures one of the plaintiffs harrell graham testified that a major purpose behind distributing the paper was to flaunt that rule the testimony of the other two witnesses was to the same effect they knew at the time that their activities were against school policy and that they were subjecting themselves to the disciplinary measures previously announced by mr andrews judge woodrow seals of this district was recently presented with a situation similar to that in the instant case in sullivan v houston independent school district 307 fsupp 1328 sd tex1969 judge seals well and thoroughly enunciated the principles as they currently stand pertaining to the rights of students to register dissent on the school campus to summarize judge seals held primarily on the basis of tinker v des moines independent community school district 393 us 503 89 sct 733 21 led2d 731 1969 that students do not shed their constitutional rights when they enter the high school campus first amendment protections apply fully to high school students judge seals noted however that speech and assembly are subject to reasonable restrictions as to time place manner and duration     sullivan v houston independent school district supra 307 fsupp at 1339 freedom of speech may therefore be exercised on the school campus so long as it does not unreasonably interfere with normal school activities id at 1340 in tinker the supreme court stated the underlying test clearly the prohibition of expression of one particular opinion at least without evidence that it is necessary to avoid material and substantial interference with school work or discipline is not constitutionally permissible tinker v des moines independent community school district supra 393 us at 511 89 sct at 739 to this point the court concurs with judge seals’ analysis in sullivan as to the rules pertaining to first amendment freedoms on the campus in a proper case the issue would now be whether the students were responsible for material and substantial disruption of school procedures within the meaning of tinker this court cannot agree however with the unstated conclusion that seems to logically follow from the sullivan decision that any activity involving speech even when coupled with gross disobedience of school disciplinarians must be tested against the disruption standard i reach this conclusion because in this case the evidence tends to show that these plaintiffs were reprimanded more for disobedience than for the dissemination of material protected under the first amendment in the first instance the students were not expelled in effect they were told to leave their classes until they could obey the principals directives they were never told that they could not distribute the paper off the campus they knew that there were reasonable and proper channels to explore in order that they might distribute the paper on campus but they bypassed them completely the plaintiffs testified that one purpose in distributing the paper was to flaunt the school rule prohibiting the activity in which they were engaged moreover there was evidence that the distribution of the paper had caused a disturbance in certain classrooms and in the halls whether it was substantial within the tinker standard i do not think needs answering in connection with the other activities of the plaintiffs the resulting disturbance was sufficient to warrant the school principal in disciplining the students in a case not cited by judge seals scoville v board of education 425 f2d 10 7 ca1969 the seventh circuit held that it was not unreasonable for students to be suspended for publishing and distributing a pamphlet which incited students to ignore school procedures and was contemptuous of school officials even if the publication had no disruptive effect on the school this court cannot agree with that decision as it erroneously i believe concentrates solely on the content of the publication in discussing the district court opinion in scoville 286 fsupp 988 ndill1968 which was affirmed by the seventh circuit professor charles alan wright said the result    seems to me quite wrong in the absence of a showing of any disruption of the work of the school or any disorder or any invasion of the rights of others— much less the ‘material and substantial’ interference tinker requires — it seems to me inescapable that these two students were expelled because the school authorities did not like what they were saying and this is what the constitution prohibits c a wright the constitution on the campus 22 vandlrev 1027 1055 1969 emphasis in original within my analysis and under the circumstances of this case i do not believe it is necessary or proper to inquire into the content of this publication nor again do i believe that substantial disruption must invariably be proved the issue here is neither whether the paper was insidious as the defendants characterize it which it was not nor whether a tinkerstyle disturbance occurred which it did not my views are in accord with those of district judge bartels as stated in a case in which he found that the plaintiffstudent was properly expelled for disobeying school authorities rather than for engaging in protected speech in our system of government there is no right to suppress or censor speech or expressions even though they may be hateful or offensive to those in authority or opposed by the majority cox v state of louisiana 379 us 536 551552 85 sct 453 13 led2d 471 1965 it is likewise true that the freedom of speech and association protected by the first and fourteenth amendments are not ‘absolutes’ and are subject to constitutional restrictions for the protection of the social interest in government order and morality konigsberg v state bar of california 366 us 36 50 81 sct 997 6 led2d 105 1961 reh denied 368 us 869 82 sct 21 7 led2d 69 1961 beauharnais v people 343 us 250 256 72 sct 725 96 led 919 1952 giboney v empire storage  ice co 336 us 490 501 69 sct 684 93 led 834 1949 while there is a certain aura of sacredness attached to the first amendment nevertheless these first amendment rights must be balanced against the duty and obligation of the state to educate students in an orderly and decent manner to protect the rights not of a few but of all the students in the school system the line of reason must be drawn somewhere in this area of ever expanding permissibility gross disrespect and contempt for the officials of an educational institution may be justification not only for suspension but also for expulsion of a student schwartz v schuker 298 fsupp 238 242 edny1969 although the activity for which the plaintiff in schwartz was expelled was more flagrant than was the activity in this case this court will not begin to intimate the extent to which a student may be disobedient before disciplinary measures are properly taken that determination is within the province of the school administrators it is sufficient to state that the court finds the principal’s decision neither arbitrary nor unreasonable under the circumstances i have stated that i do not agree that school authorities are without power to discipline students for prohibited activity simply because that activity may involve speech i am therefore compelled to also state that judge seals’ determination that the houston independent school district policy pertaining to the powers of a school principal is null and void is unpersuasive and i do not choose to follow that portion of my brother’s decision that policy reads as follows the school principal the school principal may make such rules and regulations that may be necessary in the administration of the school and in promoting its best interests he may enforce obedience to any reasonable and lawful command i conclude that the school authorities do have the power to discipline students who disregard school rules and administrative directives it must be added that since the students knew they were violating school policy and because they were offered a hearing before the principal and because i do not agree that the school district rule quoted above is void these plaintiffs were not denied due process of law for the foregoing reasons the court finds no basis for the relief sought by the plaintiffs and the applications for preliminary and permanent injunction will be denied the plaintiffs’ complaint will therefore be dismissed the plaintiffs’ motion to dismiss on the ground that this case was mooted by judge seals’ decision in sullivan supra will not be considered as it was not noticed for submission in accordance with fedrcivp 6d and local rules 24 and 25 the defendants’ motion to dismiss the complaint on the basis of harkless v sweeny independent school district 300 fsupp 794 sdtex1969 will be denied the complaint in this case is sufficient to constitute suit against the named defendants in their individual capacities  district judge lawrence was recently called upon to decide the precise point at which the fuzz or down above the lips of a teenager becomes a mustache although clearly distinguishable from the instant case the following quotation well expresses my thoughts about cases of this kind among the tilings a student is supposed to learn at school at least such is my idea is a sense of discipline of course rules cannot be made by authorities for the sake of making them but they should possess considerable leeway in promulgating regulations for the proper conduct of students courts should uphold them where there is any rational basis for the questioned rule all that is necessary is a reasonable connection of the rule with the proper operation of the schools by accepting an education at public expense pupils at the elementary or high school level subject themselves to considerable discretion on the part of school authorities as to the manner in which they deport themselves those who run public schools should be the judges in such matters not the courts the quicker judges get out of the business of running schools the better i have no intention of becoming a tonsorial or sartorial consultant of boards superintendents and principals except in extreme cases the judgment of school officials should be final in applying a regulation to an individual case stevenson v wheeler county board of education 306 fsupp 97 sdga1969'"
      ]
     },
     "execution_count": 912,
     "metadata": {},
     "output_type": "execute_result"
    }
   ],
   "source": [
    "text[3]"
   ]
  },
  {
   "cell_type": "code",
   "execution_count": null,
   "metadata": {},
   "outputs": [],
   "source": []
  }
 ],
 "metadata": {
  "kernelspec": {
   "display_name": "Python 3",
   "language": "python",
   "name": "python3"
  },
  "language_info": {
   "codemirror_mode": {
    "name": "ipython",
    "version": 3
   },
   "file_extension": ".py",
   "mimetype": "text/x-python",
   "name": "python",
   "nbconvert_exporter": "python",
   "pygments_lexer": "ipython3",
   "version": "3.7.3"
  }
 },
 "nbformat": 4,
 "nbformat_minor": 2
}
