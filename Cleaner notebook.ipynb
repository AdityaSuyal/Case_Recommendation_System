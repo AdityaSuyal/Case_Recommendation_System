{
 "cells": [
  {
   "cell_type": "code",
   "execution_count": 1,
   "metadata": {},
   "outputs": [],
   "source": [
    "#standard packages\n",
    "import pandas as pd\n",
    "import numpy as np\n",
    "\n",
    "#webscraping packages & SQLite\n",
    "import pymongo\n",
    "from pymongo import MongoClient\n",
    "from bs4 import BeautifulSoup, SoupStrainer\n",
    "import requests\n",
    "import urllib.request\n",
    "import functions as mf"
   ]
  },
  {
   "cell_type": "code",
   "execution_count": 2,
   "metadata": {},
   "outputs": [],
   "source": [
    "client = MongoClient()\n",
    "db = client.case_files\n",
    "cases = db.cases"
   ]
  },
  {
   "cell_type": "code",
   "execution_count": 3,
   "metadata": {},
   "outputs": [],
   "source": [
    "df = pd.DataFrame(list(cases.find()))"
   ]
  },
  {
   "cell_type": "code",
   "execution_count": 4,
   "metadata": {},
   "outputs": [],
   "source": [
    "def combine_other_opinions(case_text_entry):\n",
    "    return [case_text_entry[i]['type'] + ': ' + case_text_entry[i]['text'] for i in range(1, len(case_text_entry))]"
   ]
  },
  {
   "cell_type": "code",
   "execution_count": 5,
   "metadata": {},
   "outputs": [],
   "source": [
    "def clean_data(df):\n",
    "    df['attorneys'] = df['attorneys'].apply(lambda x: None if len(x) == 0  else x[0])\n",
    "    df['judges'] = df['judges'].apply(lambda x: None if len(x) == 0 else x[0])\n",
    "    df['majority_opinion'] = df['case_text'].apply(lambda x: None if len(x) == 0 else (x[0]['type'] + ': ' + x[0]['text']))\n",
    "    df['other_opinions'] = df['case_text'].apply(lambda x: combine_other_opinions(x))\n",
    "    df['other_opinions'] = df['other_opinions'].apply(lambda x: None if len(x) == 0 else x[0])\n",
    "    return df"
   ]
  },
  {
   "cell_type": "code",
   "execution_count": 6,
   "metadata": {
    "scrolled": true
   },
   "outputs": [
    {
     "data": {
      "text/html": [
       "<div>\n",
       "<style scoped>\n",
       "    .dataframe tbody tr th:only-of-type {\n",
       "        vertical-align: middle;\n",
       "    }\n",
       "\n",
       "    .dataframe tbody tr th {\n",
       "        vertical-align: top;\n",
       "    }\n",
       "\n",
       "    .dataframe thead th {\n",
       "        text-align: right;\n",
       "    }\n",
       "</style>\n",
       "<table border=\"1\" class=\"dataframe\">\n",
       "  <thead>\n",
       "    <tr style=\"text-align: right;\">\n",
       "      <th></th>\n",
       "      <th>_id</th>\n",
       "      <th>attorneys</th>\n",
       "      <th>case_id</th>\n",
       "      <th>case_name</th>\n",
       "      <th>case_text</th>\n",
       "      <th>court_id</th>\n",
       "      <th>court_name</th>\n",
       "      <th>decision_date</th>\n",
       "      <th>frontend_url</th>\n",
       "      <th>judges</th>\n",
       "      <th>majority_opinion</th>\n",
       "      <th>other_opinions</th>\n",
       "    </tr>\n",
       "  </thead>\n",
       "  <tbody>\n",
       "    <tr>\n",
       "      <th>0</th>\n",
       "      <td>5d66e470e59ddf33befdfe06</td>\n",
       "      <td>None</td>\n",
       "      <td>37588</td>\n",
       "      <td>In the matter of the Complaint made against Jo...</td>\n",
       "      <td>[{'text': 'ORDER OF PUBLIC CENSURE\n",
       "Whereas, In...</td>\n",
       "      <td>8874</td>\n",
       "      <td>Kansas Supreme Court</td>\n",
       "      <td>1970</td>\n",
       "      <td>https://cite.case.law/kan/206/335/</td>\n",
       "      <td>None</td>\n",
       "      <td>majority: ORDER OF PUBLIC CENSURE\\nWhereas, In...</td>\n",
       "      <td>None</td>\n",
       "    </tr>\n",
       "    <tr>\n",
       "      <th>1</th>\n",
       "      <td>5d66e470e59ddf33befdfe07</td>\n",
       "      <td>None</td>\n",
       "      <td>37656</td>\n",
       "      <td>In the matter of the Complaint made against Ro...</td>\n",
       "      <td>[{'text': 'ORDER OF PUBLIC CENSURE\n",
       "Whereas, In...</td>\n",
       "      <td>8874</td>\n",
       "      <td>Kansas Supreme Court</td>\n",
       "      <td>1970</td>\n",
       "      <td>https://cite.case.law/kan/206/334/</td>\n",
       "      <td>None</td>\n",
       "      <td>majority: ORDER OF PUBLIC CENSURE\\nWhereas, In...</td>\n",
       "      <td>None</td>\n",
       "    </tr>\n",
       "    <tr>\n",
       "      <th>2</th>\n",
       "      <td>5d66e470e59ddf33befdfe08</td>\n",
       "      <td>None</td>\n",
       "      <td>1747634</td>\n",
       "      <td>State of Connecticut v. Anonymous (1971-5)</td>\n",
       "      <td>[{'text': 'Moraghan, J.\n",
       "The defendant has move...</td>\n",
       "      <td>13405</td>\n",
       "      <td>Connecticut Circuit Court</td>\n",
       "      <td>1970</td>\n",
       "      <td>https://cite.case.law/conn-cir-ct/6/443/</td>\n",
       "      <td>None</td>\n",
       "      <td>majority: Moraghan, J.\\nThe defendant has move...</td>\n",
       "      <td>None</td>\n",
       "    </tr>\n",
       "    <tr>\n",
       "      <th>3</th>\n",
       "      <td>5d66e470e59ddf33befdfe09</td>\n",
       "      <td>None</td>\n",
       "      <td>1747661</td>\n",
       "      <td>State of Connecticut v. Anonymous (1971-3)</td>\n",
       "      <td>[{'text': 'Dearington, J.\n",
       "Following a trial to...</td>\n",
       "      <td>13405</td>\n",
       "      <td>Connecticut Circuit Court</td>\n",
       "      <td>1970</td>\n",
       "      <td>https://cite.case.law/conn-cir-ct/6/393/</td>\n",
       "      <td>None</td>\n",
       "      <td>majority: Dearington, J.\\nFollowing a trial to...</td>\n",
       "      <td>None</td>\n",
       "    </tr>\n",
       "    <tr>\n",
       "      <th>4</th>\n",
       "      <td>5d66e470e59ddf33befdfe0a</td>\n",
       "      <td>None</td>\n",
       "      <td>1747680</td>\n",
       "      <td>State of Connecticut v. Anonymous (1971-7)</td>\n",
       "      <td>[{'text': 'Casale, J.\n",
       "The defendant, after a t...</td>\n",
       "      <td>13405</td>\n",
       "      <td>Connecticut Circuit Court</td>\n",
       "      <td>1970</td>\n",
       "      <td>https://cite.case.law/conn-cir-ct/6/462/</td>\n",
       "      <td>None</td>\n",
       "      <td>majority: Casale, J.\\nThe defendant, after a t...</td>\n",
       "      <td>None</td>\n",
       "    </tr>\n",
       "  </tbody>\n",
       "</table>\n",
       "</div>"
      ],
      "text/plain": [
       "                        _id attorneys  case_id  \\\n",
       "0  5d66e470e59ddf33befdfe06      None    37588   \n",
       "1  5d66e470e59ddf33befdfe07      None    37656   \n",
       "2  5d66e470e59ddf33befdfe08      None  1747634   \n",
       "3  5d66e470e59ddf33befdfe09      None  1747661   \n",
       "4  5d66e470e59ddf33befdfe0a      None  1747680   \n",
       "\n",
       "                                           case_name  \\\n",
       "0  In the matter of the Complaint made against Jo...   \n",
       "1  In the matter of the Complaint made against Ro...   \n",
       "2         State of Connecticut v. Anonymous (1971-5)   \n",
       "3         State of Connecticut v. Anonymous (1971-3)   \n",
       "4         State of Connecticut v. Anonymous (1971-7)   \n",
       "\n",
       "                                           case_text  court_id  \\\n",
       "0  [{'text': 'ORDER OF PUBLIC CENSURE\n",
       "Whereas, In...      8874   \n",
       "1  [{'text': 'ORDER OF PUBLIC CENSURE\n",
       "Whereas, In...      8874   \n",
       "2  [{'text': 'Moraghan, J.\n",
       "The defendant has move...     13405   \n",
       "3  [{'text': 'Dearington, J.\n",
       "Following a trial to...     13405   \n",
       "4  [{'text': 'Casale, J.\n",
       "The defendant, after a t...     13405   \n",
       "\n",
       "                  court_name decision_date  \\\n",
       "0       Kansas Supreme Court          1970   \n",
       "1       Kansas Supreme Court          1970   \n",
       "2  Connecticut Circuit Court          1970   \n",
       "3  Connecticut Circuit Court          1970   \n",
       "4  Connecticut Circuit Court          1970   \n",
       "\n",
       "                               frontend_url judges  \\\n",
       "0        https://cite.case.law/kan/206/335/   None   \n",
       "1        https://cite.case.law/kan/206/334/   None   \n",
       "2  https://cite.case.law/conn-cir-ct/6/443/   None   \n",
       "3  https://cite.case.law/conn-cir-ct/6/393/   None   \n",
       "4  https://cite.case.law/conn-cir-ct/6/462/   None   \n",
       "\n",
       "                                    majority_opinion other_opinions  \n",
       "0  majority: ORDER OF PUBLIC CENSURE\\nWhereas, In...           None  \n",
       "1  majority: ORDER OF PUBLIC CENSURE\\nWhereas, In...           None  \n",
       "2  majority: Moraghan, J.\\nThe defendant has move...           None  \n",
       "3  majority: Dearington, J.\\nFollowing a trial to...           None  \n",
       "4  majority: Casale, J.\\nThe defendant, after a t...           None  "
      ]
     },
     "execution_count": 6,
     "metadata": {},
     "output_type": "execute_result"
    }
   ],
   "source": [
    "test = clean_data(df)\n",
    "test.head()"
   ]
  },
  {
   "cell_type": "code",
   "execution_count": 69,
   "metadata": {},
   "outputs": [
    {
     "name": "stdout",
     "output_type": "stream",
     "text": [
      "10 J. Marvin Kuhn, Deputy Public Defender, Salem, filed the brief for appellant. With him on the brief was Gary D. Babcock, Public Defender, Salem.\n",
      "11 Bertram B. Wallace, pro se.\n",
      "12 William H. Baker, Special Counsel, Bobby L. Culpepper, Jonesboro, La., for defendants-appellants.\n",
      "13 Lacy Mahon, Jr., Jacksonville, Fla., for appellant.\n",
      "14 Paul L. Wayman, Atlanta, Ga., court-appointed, for appellant.\n",
      "15 Elihu Pearlman for plaintiff.\n",
      "16 None\n",
      "17 John J. Harrington for the petitioner.\n"
     ]
    }
   ],
   "source": [
    "for i in range(10, 18):\n",
    "    print(i, test.attorneys[i])"
   ]
  },
  {
   "cell_type": "code",
   "execution_count": 58,
   "metadata": {
    "scrolled": true
   },
   "outputs": [],
   "source": [
    "temp = []\n",
    "for i in range(0,150):\n",
    "    if len(df.case_text[i]) > 1: \n",
    "        temp.append(i)"
   ]
  },
  {
   "cell_type": "code",
   "execution_count": 59,
   "metadata": {},
   "outputs": [
    {
     "data": {
      "text/plain": [
       "[5, 98, 121]"
      ]
     },
     "execution_count": 59,
     "metadata": {},
     "output_type": "execute_result"
    }
   ],
   "source": [
    "temp"
   ]
  },
  {
   "cell_type": "code",
   "execution_count": 148,
   "metadata": {},
   "outputs": [],
   "source": []
  },
  {
   "cell_type": "code",
   "execution_count": null,
   "metadata": {},
   "outputs": [],
   "source": []
  },
  {
   "cell_type": "code",
   "execution_count": 40,
   "metadata": {},
   "outputs": [],
   "source": [
    "# for i,x in enumerate(db.cases.find({}, {'decision_date':1})):\n",
    "#     print(i)\n",
    "#     print(x)"
   ]
  },
  {
   "cell_type": "code",
   "execution_count": null,
   "metadata": {},
   "outputs": [],
   "source": []
  },
  {
   "cell_type": "code",
   "execution_count": null,
   "metadata": {},
   "outputs": [],
   "source": []
  }
 ],
 "metadata": {
  "kernelspec": {
   "display_name": "Python 3",
   "language": "python",
   "name": "python3"
  },
  "language_info": {
   "codemirror_mode": {
    "name": "ipython",
    "version": 3
   },
   "file_extension": ".py",
   "mimetype": "text/x-python",
   "name": "python",
   "nbconvert_exporter": "python",
   "pygments_lexer": "ipython3",
   "version": "3.7.3"
  }
 },
 "nbformat": 4,
 "nbformat_minor": 2
}
