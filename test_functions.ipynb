{
 "cells": [
  {
   "cell_type": "code",
   "execution_count": 3,
   "metadata": {},
   "outputs": [
    {
     "data": {
      "text/html": [
       "        <script type=\"text/javascript\">\n",
       "        window.PlotlyConfig = {MathJaxConfig: 'local'};\n",
       "        if (window.MathJax) {MathJax.Hub.Config({SVG: {font: \"STIX-Web\"}});}\n",
       "        if (typeof require !== 'undefined') {\n",
       "        require.undef(\"plotly\");\n",
       "        requirejs.config({\n",
       "            paths: {\n",
       "                'plotly': ['https://cdn.plot.ly/plotly-latest.min']\n",
       "            }\n",
       "        });\n",
       "        require(['plotly'], function(Plotly) {\n",
       "            window._Plotly = Plotly;\n",
       "        });\n",
       "        }\n",
       "        </script>\n",
       "        "
      ]
     },
     "metadata": {},
     "output_type": "display_data"
    },
    {
     "data": {
      "text/html": [
       "        <script type=\"text/javascript\">\n",
       "        window.PlotlyConfig = {MathJaxConfig: 'local'};\n",
       "        if (window.MathJax) {MathJax.Hub.Config({SVG: {font: \"STIX-Web\"}});}\n",
       "        if (typeof require !== 'undefined') {\n",
       "        require.undef(\"plotly\");\n",
       "        requirejs.config({\n",
       "            paths: {\n",
       "                'plotly': ['https://cdn.plot.ly/plotly-latest.min']\n",
       "            }\n",
       "        });\n",
       "        require(['plotly'], function(Plotly) {\n",
       "            window._Plotly = Plotly;\n",
       "        });\n",
       "        }\n",
       "        </script>\n",
       "        "
      ]
     },
     "metadata": {},
     "output_type": "display_data"
    }
   ],
   "source": [
    "#standard packages\n",
    "import pandas as pd\n",
    "import numpy as np\n",
    "import re\n",
    "from pprint import pprint\n",
    "\n",
    "#webscraping packages & SQLite\n",
    "import pymongo\n",
    "from pymongo import MongoClient\n",
    "from bs4 import BeautifulSoup, SoupStrainer\n",
    "import requests\n",
    "import urllib.request\n",
    "import functions as mf\n",
    "\n",
    "#nlp packages\n",
    "import string\n",
    "import nltk\n",
    "from nltk.corpus import stopwords\n",
    "stop_words = stopwords.words('english')\n",
    "from gensim.test.utils import common_texts\n",
    "from gensim.models import Word2Vec\n",
    "from gensim.models.doc2vec import Doc2Vec, TaggedDocument\n",
    "import spacy\n",
    "from spacy.lang.en.stop_words import STOP_WORDS\n",
    "nlp = spacy.load('en_core_web_lg')\n",
    "\n",
    "#EDA packages\n",
    "from collections import Counter, OrderedDict\n",
    "import matplotlib.pyplot as plt\n",
    "import seaborn as sns\n",
    "\n",
    "\n",
    "from gensim.test.utils import datapath, get_tmpfile\n",
    "from gensim.models import KeyedVectors \n",
    "from gensim.scripts.glove2word2vec import glove2word2vec\n",
    "import gensim\n",
    "import gensim.corpora as corpora\n",
    "from gensim.utils import simple_preprocess\n",
    "from gensim.models import CoherenceModel\n",
    "\n",
    "import plotly.offline as py\n",
    "py.init_notebook_mode(connected=True)\n",
    "import plotly.graph_objs as go\n",
    "import plotly.tools as tls\n",
    "import seaborn as sns\n",
    "import matplotlib.image as mpimg\n",
    "import matplotlib.pyplot as plt\n",
    "import matplotlib\n",
    "%matplotlib inline\n",
    "\n",
    "# Import the 3 dimensionality reduction methods\n",
    "from sklearn.manifold import TSNE\n",
    "from sklearn.decomposition import PCA\n",
    "from sklearn.discriminant_analysis import LinearDiscriminantAnalysis as LDA\n",
    "\n",
    "\n",
    "# Plotting tools\n",
    "import pyLDAvis\n",
    "import pyLDAvis.gensim  # don't skip this\n",
    "import matplotlib.pyplot as plt\n",
    "%matplotlib inline\n",
    "\n",
    "# Enable logging for gensim - optional\n",
    "import logging\n",
    "logging.basicConfig(format='%(asctime)s : %(levelname)s : %(message)s', level=logging.ERROR)\n",
    "\n",
    "import warnings\n",
    "warnings.filterwarnings(\"ignore\",category=DeprecationWarning)"
   ]
  },
  {
   "cell_type": "code",
   "execution_count": 4,
   "metadata": {},
   "outputs": [],
   "source": [
    "client = MongoClient()\n",
    "db = client.case_files\n",
    "cases = db.cases"
   ]
  },
  {
   "cell_type": "code",
   "execution_count": 5,
   "metadata": {},
   "outputs": [],
   "source": [
    "df = pd.DataFrame(list(cases.find()))"
   ]
  },
  {
   "cell_type": "code",
   "execution_count": 6,
   "metadata": {},
   "outputs": [],
   "source": [
    "#import cleaning class\n",
    "c_d = mf.clean_data"
   ]
  },
  {
   "cell_type": "code",
   "execution_count": 7,
   "metadata": {},
   "outputs": [],
   "source": [
    "clean_data_df = c_d.clean_data(df)"
   ]
  },
  {
   "cell_type": "code",
   "execution_count": 29,
   "metadata": {},
   "outputs": [],
   "source": [
    "combined_df = pd.read_csv('combined_df.csv')"
   ]
  },
  {
   "cell_type": "code",
   "execution_count": 8,
   "metadata": {
    "scrolled": false
   },
   "outputs": [
    {
     "data": {
      "text/html": [
       "<div>\n",
       "<style scoped>\n",
       "    .dataframe tbody tr th:only-of-type {\n",
       "        vertical-align: middle;\n",
       "    }\n",
       "\n",
       "    .dataframe tbody tr th {\n",
       "        vertical-align: top;\n",
       "    }\n",
       "\n",
       "    .dataframe thead th {\n",
       "        text-align: right;\n",
       "    }\n",
       "</style>\n",
       "<table border=\"1\" class=\"dataframe\">\n",
       "  <thead>\n",
       "    <tr style=\"text-align: right;\">\n",
       "      <th></th>\n",
       "      <th>_id</th>\n",
       "      <th>attorneys</th>\n",
       "      <th>case_id</th>\n",
       "      <th>case_name</th>\n",
       "      <th>case_text</th>\n",
       "      <th>court_id</th>\n",
       "      <th>court_name</th>\n",
       "      <th>decision_date</th>\n",
       "      <th>frontend_url</th>\n",
       "      <th>judges</th>\n",
       "      <th>majority_opinion</th>\n",
       "      <th>other_opinions</th>\n",
       "      <th>tokenized_majority_opinion</th>\n",
       "      <th>no_stop_words_majority</th>\n",
       "    </tr>\n",
       "  </thead>\n",
       "  <tbody>\n",
       "    <tr>\n",
       "      <th>0</th>\n",
       "      <td>5d66e470e59ddf33befdfe06</td>\n",
       "      <td>None</td>\n",
       "      <td>37588</td>\n",
       "      <td>In the matter of the Complaint made against Jo...</td>\n",
       "      <td>[{'text': 'ORDER OF PUBLIC CENSURE\n",
       "Whereas, In...</td>\n",
       "      <td>8874</td>\n",
       "      <td>Kansas Supreme Court</td>\n",
       "      <td>1970</td>\n",
       "      <td>https://cite.case.law/kan/206/335/</td>\n",
       "      <td>None</td>\n",
       "      <td>order of public censure whereas in a proceedin...</td>\n",
       "      <td>[]</td>\n",
       "      <td>(order, of, public, censure, whereas, in, a, p...</td>\n",
       "      <td>[order, public, censure, proceeding, conducted...</td>\n",
       "    </tr>\n",
       "    <tr>\n",
       "      <th>1</th>\n",
       "      <td>5d66e470e59ddf33befdfe07</td>\n",
       "      <td>None</td>\n",
       "      <td>37656</td>\n",
       "      <td>In the matter of the Complaint made against Ro...</td>\n",
       "      <td>[{'text': 'ORDER OF PUBLIC CENSURE\n",
       "Whereas, In...</td>\n",
       "      <td>8874</td>\n",
       "      <td>Kansas Supreme Court</td>\n",
       "      <td>1970</td>\n",
       "      <td>https://cite.case.law/kan/206/334/</td>\n",
       "      <td>None</td>\n",
       "      <td>order of public censure whereas in a proceedin...</td>\n",
       "      <td>[]</td>\n",
       "      <td>(order, of, public, censure, whereas, in, a, p...</td>\n",
       "      <td>[order, public, censure, proceeding, conducted...</td>\n",
       "    </tr>\n",
       "    <tr>\n",
       "      <th>2</th>\n",
       "      <td>5d66e470e59ddf33befdfe08</td>\n",
       "      <td>None</td>\n",
       "      <td>1747634</td>\n",
       "      <td>State of Connecticut v. Anonymous (1971-5)</td>\n",
       "      <td>[{'text': 'Moraghan, J.\n",
       "The defendant has move...</td>\n",
       "      <td>13405</td>\n",
       "      <td>Connecticut Circuit Court</td>\n",
       "      <td>1970</td>\n",
       "      <td>https://cite.case.law/conn-cir-ct/6/443/</td>\n",
       "      <td>None</td>\n",
       "      <td>moraghan j the defendant has moved to suppress...</td>\n",
       "      <td>[]</td>\n",
       "      <td>(moraghan, j, the, defendant, has, moved, to, ...</td>\n",
       "      <td>[moraghan, j, defendant, moved, suppress, cert...</td>\n",
       "    </tr>\n",
       "    <tr>\n",
       "      <th>3</th>\n",
       "      <td>5d66e470e59ddf33befdfe09</td>\n",
       "      <td>None</td>\n",
       "      <td>1747661</td>\n",
       "      <td>State of Connecticut v. Anonymous (1971-3)</td>\n",
       "      <td>[{'text': 'Dearington, J.\n",
       "Following a trial to...</td>\n",
       "      <td>13405</td>\n",
       "      <td>Connecticut Circuit Court</td>\n",
       "      <td>1970</td>\n",
       "      <td>https://cite.case.law/conn-cir-ct/6/393/</td>\n",
       "      <td>None</td>\n",
       "      <td>dearington j following a trial to the jury the...</td>\n",
       "      <td>[]</td>\n",
       "      <td>(dearington, j, following, a, trial, to, the, ...</td>\n",
       "      <td>[dearington, j, following, trial, jury, defend...</td>\n",
       "    </tr>\n",
       "    <tr>\n",
       "      <th>4</th>\n",
       "      <td>5d66e470e59ddf33befdfe0a</td>\n",
       "      <td>None</td>\n",
       "      <td>1747680</td>\n",
       "      <td>State of Connecticut v. Anonymous (1971-7)</td>\n",
       "      <td>[{'text': 'Casale, J.\n",
       "The defendant, after a t...</td>\n",
       "      <td>13405</td>\n",
       "      <td>Connecticut Circuit Court</td>\n",
       "      <td>1970</td>\n",
       "      <td>https://cite.case.law/conn-cir-ct/6/462/</td>\n",
       "      <td>None</td>\n",
       "      <td>casale j the defendant after a trial to the co...</td>\n",
       "      <td>[]</td>\n",
       "      <td>(casale, j, the, defendant, after, a, trial, t...</td>\n",
       "      <td>[casale, j, defendant, trial, court, found, gu...</td>\n",
       "    </tr>\n",
       "  </tbody>\n",
       "</table>\n",
       "</div>"
      ],
      "text/plain": [
       "                        _id attorneys  case_id  \\\n",
       "0  5d66e470e59ddf33befdfe06      None    37588   \n",
       "1  5d66e470e59ddf33befdfe07      None    37656   \n",
       "2  5d66e470e59ddf33befdfe08      None  1747634   \n",
       "3  5d66e470e59ddf33befdfe09      None  1747661   \n",
       "4  5d66e470e59ddf33befdfe0a      None  1747680   \n",
       "\n",
       "                                           case_name  \\\n",
       "0  In the matter of the Complaint made against Jo...   \n",
       "1  In the matter of the Complaint made against Ro...   \n",
       "2         State of Connecticut v. Anonymous (1971-5)   \n",
       "3         State of Connecticut v. Anonymous (1971-3)   \n",
       "4         State of Connecticut v. Anonymous (1971-7)   \n",
       "\n",
       "                                           case_text  court_id  \\\n",
       "0  [{'text': 'ORDER OF PUBLIC CENSURE\n",
       "Whereas, In...      8874   \n",
       "1  [{'text': 'ORDER OF PUBLIC CENSURE\n",
       "Whereas, In...      8874   \n",
       "2  [{'text': 'Moraghan, J.\n",
       "The defendant has move...     13405   \n",
       "3  [{'text': 'Dearington, J.\n",
       "Following a trial to...     13405   \n",
       "4  [{'text': 'Casale, J.\n",
       "The defendant, after a t...     13405   \n",
       "\n",
       "                  court_name decision_date  \\\n",
       "0       Kansas Supreme Court          1970   \n",
       "1       Kansas Supreme Court          1970   \n",
       "2  Connecticut Circuit Court          1970   \n",
       "3  Connecticut Circuit Court          1970   \n",
       "4  Connecticut Circuit Court          1970   \n",
       "\n",
       "                               frontend_url judges  \\\n",
       "0        https://cite.case.law/kan/206/335/   None   \n",
       "1        https://cite.case.law/kan/206/334/   None   \n",
       "2  https://cite.case.law/conn-cir-ct/6/443/   None   \n",
       "3  https://cite.case.law/conn-cir-ct/6/393/   None   \n",
       "4  https://cite.case.law/conn-cir-ct/6/462/   None   \n",
       "\n",
       "                                    majority_opinion other_opinions  \\\n",
       "0  order of public censure whereas in a proceedin...             []   \n",
       "1  order of public censure whereas in a proceedin...             []   \n",
       "2  moraghan j the defendant has moved to suppress...             []   \n",
       "3  dearington j following a trial to the jury the...             []   \n",
       "4  casale j the defendant after a trial to the co...             []   \n",
       "\n",
       "                          tokenized_majority_opinion  \\\n",
       "0  (order, of, public, censure, whereas, in, a, p...   \n",
       "1  (order, of, public, censure, whereas, in, a, p...   \n",
       "2  (moraghan, j, the, defendant, has, moved, to, ...   \n",
       "3  (dearington, j, following, a, trial, to, the, ...   \n",
       "4  (casale, j, the, defendant, after, a, trial, t...   \n",
       "\n",
       "                              no_stop_words_majority  \n",
       "0  [order, public, censure, proceeding, conducted...  \n",
       "1  [order, public, censure, proceeding, conducted...  \n",
       "2  [moraghan, j, defendant, moved, suppress, cert...  \n",
       "3  [dearington, j, following, trial, jury, defend...  \n",
       "4  [casale, j, defendant, trial, court, found, gu...  "
      ]
     },
     "execution_count": 8,
     "metadata": {},
     "output_type": "execute_result"
    }
   ],
   "source": [
    "clean_data_df.head()"
   ]
  },
  {
   "cell_type": "code",
   "execution_count": 16,
   "metadata": {},
   "outputs": [],
   "source": [
    "v_c = mf.visualizations"
   ]
  },
  {
   "cell_type": "code",
   "execution_count": 22,
   "metadata": {},
   "outputs": [],
   "source": [
    "list_of_token_text = list(v_c.sent_to_words(clean_data_df.tokenized_majority_opinion))\n",
    "flat_list = [word for sublist in list_of_token_text for word in sublist]"
   ]
  },
  {
   "cell_type": "code",
   "execution_count": 23,
   "metadata": {},
   "outputs": [
    {
     "data": {
      "image/png": "[encoded data removed]",
      "text/plain": [
       "<Figure size 720x432 with 1 Axes>"
      ]
     },
     "metadata": {
      "needs_background": "light"
     },
     "output_type": "display_data"
    }
   ],
   "source": [
    "v_c.bar_plot(flat_list)"
   ]
  },
  {
   "cell_type": "code",
   "execution_count": null,
   "metadata": {},
   "outputs": [],
   "source": []
  }
 ],
 "metadata": {
  "kernelspec": {
   "display_name": "Python 3",
   "language": "python",
   "name": "python3"
  },
  "language_info": {
   "codemirror_mode": {
    "name": "ipython",
    "version": 3
   },
   "file_extension": ".py",
   "mimetype": "text/x-python",
   "name": "python",
   "nbconvert_exporter": "python",
   "pygments_lexer": "ipython3",
   "version": "3.7.3"
  }
 },
 "nbformat": 4,
 "nbformat_minor": 2
}
